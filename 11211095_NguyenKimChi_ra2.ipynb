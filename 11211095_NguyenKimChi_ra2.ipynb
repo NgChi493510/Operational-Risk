{
  "nbformat": 4,
  "nbformat_minor": 0,
  "metadata": {
    "colab": {
      "provenance": []
    },
    "kernelspec": {
      "name": "python3",
      "display_name": "Python 3"
    },
    "language_info": {
      "name": "python"
    }
  },
  "cells": [
    {
      "cell_type": "code",
      "execution_count": 1,
      "metadata": {
        "id": "xV_rK1Ocx6S-"
      },
      "outputs": [],
      "source": [
        "import numpy as np\n",
        "import seaborn as sns\n",
        "import matplotlib.pyplot as plt\n",
        "\n",
        "ID = 11211095\n",
        "a = ID % 5\n",
        "\n",
        "num_simulations = 500\n",
        "loss_frequency_lambda = 2\n",
        "\n",
        "\n",
        "mean_losssize = 70 + a\n",
        "std_losssize = 20 + a\n",
        "w = (std_losssize/mean_losssize)**2\n",
        "\n",
        "\n",
        "mean = np.log(mean_losssize/np.sqrt(1+w))\n",
        "variance = np.log(1+w)\n",
        "std = np.sqrt(variance)"
      ]
    },
    {
      "cell_type": "code",
      "source": [
        "def sample_loss_size(num_loss_events, loss_severity_mean, loss_severity_std, total=False):\n",
        "    sampled_loss_size = np.random.lognormal(mean=loss_severity_mean, sigma=loss_severity_std, size=num_loss_events)\n",
        "    if total:\n",
        "        sampled_loss_size = sampled_loss_size.sum()\n",
        "    return sampled_loss_size\n",
        "\n",
        "def loss_distribution_simulate(num_simulations=500, loss_frequency_lambda=2, loss_severity_mean=5, loss_severity_std=0.5):\n",
        "    loss_frequency_samples = np.random.poisson(loss_frequency_lambda, num_simulations)\n",
        "    total_loss = [sample_loss_size(n, loss_severity_mean, loss_severity_std, total=True) for n in loss_frequency_samples]\n",
        "    return total_loss\n",
        "\n",
        "\n",
        "loss_dist = loss_distribution_simulate(num_simulations=500, loss_frequency_lambda=loss_frequency_lambda, loss_severity_mean= mean, loss_severity_std= std)\n",
        "\n",
        "\n",
        "plt.figure(figsize=(5, 3))\n",
        "sns.histplot(loss_dist)\n",
        "plt.title(\"Distribution of Loss\")"
      ],
      "metadata": {
        "colab": {
          "base_uri": "https://localhost:8080/",
          "height": 331
        },
        "id": "x3fH3Hq3x_TM",
        "outputId": "04f22866-02e1-477c-aa63-ea43b81b890b"
      },
      "execution_count": 2,
      "outputs": [
        {
          "output_type": "execute_result",
          "data": {
            "text/plain": [
              "Text(0.5, 1.0, 'Distribution of Loss')"
            ]
          },
          "metadata": {},
          "execution_count": 2
        },
        {
          "output_type": "display_data",
          "data": {
            "text/plain": [
              "<Figure size 500x300 with 1 Axes>"
            ],
            "image/png": "[encoded data removed]"
          },
          "metadata": {}
        }
      ]
    },
    {
      "cell_type": "code",
      "source": [
        "VaR = np.percentile(loss_dist, 99)\n",
        "print(\"Value at Risk (VaR) 99%:\", VaR)"
      ],
      "metadata": {
        "colab": {
          "base_uri": "https://localhost:8080/"
        },
        "id": "9bPODSiizWXJ",
        "outputId": "280a80ea-60a3-4759-b61b-f87862b4c295"
      },
      "execution_count": 3,
      "outputs": [
        {
          "output_type": "stream",
          "name": "stdout",
          "text": [
            "Value at Risk (VaR) 99%: 424.2667236646299\n"
          ]
        }
      ]
    }
  ]
}